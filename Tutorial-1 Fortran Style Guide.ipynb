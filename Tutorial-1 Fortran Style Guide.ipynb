{
 "cells": [
  {
   "cell_type": "markdown",
   "metadata": {},
   "source": [
    "# 1. Fortran 简介\n",
    "Fortran, 源自於「公式翻译」（Formula Translation）的縮寫，是一種程式語言\n",
    "\n",
    "Fortran语言的最大特性是接近数学公式的自然描述，在计算机里具有很高的执行效率。\n",
    "易学，语法严谨。\n",
    "可以直接对矩阵和复数进行运算，這點Matlab有繼承。\n",
    "自诞生以来广泛地应用于数值计算领域，积累了大量高效而可靠的源程序。\n",
    "很多专用的大型数值运算计算机针对Fortran做了优化。\n",
    "广泛地应用于并行计算和高性能計算领域。\n",
    "Fortran 90，Fortran 95，Fortran 2003的相继推出使Fortran语言具备了现代高级编程语言的一些特性。\n",
    "其矩陣元素在記憶空間儲存順序是採用列優先（Column first），Matlab也承襲這點，目前最多使用的C語言則採用行優先（Row first）。"
   ]
  },
  {
   "cell_type": "markdown",
   "metadata": {},
   "source": [
    "## 一些关于Fortran的历史\n",
    "*参考<a>百度百科</a>\n",
    "* 1951年：美国IBM公司约翰·贝克斯(John Backus)针对汇编语言的缺点着手研究开发FORTRAN语言。\n",
    "* 1954年：约翰·贝克斯在纽约正式对外发布，称为FORTRANⅠ，FORTRANⅠ功能简单，但它的开创性工作，在社会上引起了极大的反响。\n",
    "* 1957年：第一个FORTRAN编译器在IBM704计算机上实现，并首次成功运行了FORTRAN程序。\n",
    "* 1958年：对FORTRANⅠ进行了扩充和完善，引进了子函数等概念，推出了商业化的FORTRANⅡ版本。\n",
    "* 1962年：推出了FORTRAN Ⅳ。FORTRAN Ⅳ没有充分考虑兼容性，导致FORTRANⅡ程序不能在FORTRAN Ⅳ系统中运行，使其应用受到了很大限制，这时语言不兼容性问题和影响被突出表现出来。此前也出现过FORTRAN Ⅲ，但由于存在严重缺陷，没有在计算机上实现。\n",
    "* 20世纪80年代末，FORTRAN 77结构化和现代化的研究开始兴起。\n",
    "* 1991年5月：ANSI公布了新的美国国家标准FORTRAN(ANSI 3.198-1991)。之后，ISO采纳该标准，并确定为国际标准ISO/IEC 1539-1：1991，新国际标准还采纳了中国计算机和信息处理标准化技术委员会程序设计分会提出的多字节字符集数据类型及相应的内部函数，为非英语国家使用计算机提供了极大的方便。通常称新标准为Fortran 90，Fortran 90向下兼容FORTRAN 77。之后不久又出现了Fortran 95。\n",
    "\n",
    "*注：曹周键老师的AMSS-NCKU软件由Fortran90编写*"
   ]
  },
  {
   "cell_type": "markdown",
   "metadata": {},
   "source": [
    "# 2. Fortran90 的格式\n",
    "（大家简单看一下就好，会在接下来的tutorial具体介绍，参考<a>维基百科</a>）\n",
    "* 自由格式源代码输入，以及小写的Fortran关键字\n",
    "* 模块，将有关联的过程和数据组合在一起，使它们可以被其它程序单元调用，包括允许限制一些模块的特定部分访问。\n",
    "* RECURSIVE过程\n",
    "* 极大地改善了参数传递机制，允许在编译时检查接口\n",
    "* 通用过程的用户自定义接口\n",
    "* 運算子多載\n",
    "* 衍生／抽象数据类型\n",
    "* 新的数据类型定义语法，以指定数据类型和变量的其它属性\n",
    "* 可以在表达式和赋值语句中按整体操作数组（或数组节），由此极大地简化了数学和工程计算。这些特性包括整体、部分和通配的数组赋值（比如用WHERE语句作选择性赋值），数组常数和表达式，用户定义的数组函数和数组构造。\n",
    "* 动态内存分配通过ALLOCATABLE属性和ALLOCATE和DEALLOCATE语句\n",
    "* POINTER属性，指针赋值和NULLIFY语句以便于创建和操作动态数据结构\n",
    "* CASE结构以用于多路选择\n",
    "* EXIT和CYCLE语句以用于在按顺序地\"跳出\"正常的DO循环重复\n",
    "* 最长31个字符的标识符\n",
    "* 行内注释\n",
    "* 用户可控制的可定义的数字精度\n",
    "* 新的和增强的内部过程"
   ]
  },
  {
   "cell_type": "markdown",
   "metadata": {},
   "source": [
    "# 3. Hello World"
   ]
  },
  {
   "cell_type": "code",
   "execution_count": 2,
   "metadata": {},
   "outputs": [
    {
     "name": "stdout",
     "output_type": "stream",
     "text": [
      " hello, world!\n"
     ]
    }
   ],
   "source": [
    "program main \n",
    "    write (*,*) \"hello, world!\" \n",
    "    stop \n",
    "end program main "
   ]
  },
  {
   "cell_type": "markdown",
   "metadata": {},
   "source": [
    "接下来第二部分的tutorial介绍"
   ]
  },
  {
   "cell_type": "code",
   "execution_count": null,
   "metadata": {},
   "outputs": [],
   "source": []
  }
 ],
 "metadata": {
  "kernelspec": {
   "display_name": "Fortran",
   "language": "Fortran",
   "name": "fortran_spec"
  },
  "language_info": {
   "file_extension": "f90",
   "mimetype": "text/plain",
   "name": "fortran"
  }
 },
 "nbformat": 4,
 "nbformat_minor": 2
}
