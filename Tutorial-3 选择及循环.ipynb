{
 "cells": [
  {
   "attachments": {},
   "cell_type": "markdown",
   "metadata": {},
   "source": [
    "# 1. If Else\n",
    "\n",
    "If Else是编程中最常用的语句之一，相信大家都有编程经验，这里不做过多介绍，\n",
    "\n",
    "<img src = \"https://www.tutorialspoint.com/fortran/images/if_else_flow_diagram.jpg\">"
   ]
  },
  {
   "cell_type": "markdown",
   "metadata": {},
   "source": [
    "基本语法：\n",
    "\n",
    ">if (logical expression) then      \n",
    "   statement(s)  \n",
    "else\n",
    "   other_statement(s)\n",
    "end if\n",
    "\n",
    "实例代码如下，大家可以自行改a的数值"
   ]
  },
  {
   "cell_type": "code",
   "execution_count": 4,
   "metadata": {},
   "outputs": [
    {
     "name": "stdout",
     "output_type": "stream",
     "text": [
      " a is not less than 20\n",
      " value of a is          100\n"
     ]
    }
   ],
   "source": [
    "program ifElseProg\n",
    "implicit none\n",
    "   ! 定义变量a，可以自行改数值\n",
    "   integer :: a = 100\n",
    " \n",
    "   ! 检查是否满足条件\n",
    "   if (a < 20 ) then\n",
    "   \n",
    "   ! 如果条件为真输出以下\n",
    "   print*, \"a is less than 20\"\n",
    "   \n",
    "   ! 若假，则输出以下\n",
    "   else\n",
    "   print*, \"a is not less than 20\"\n",
    "   end if\n",
    "       \n",
    "   print*, \"value of a is \", a\n",
    "\t\n",
    "end program ifElseProg"
   ]
  },
  {
   "cell_type": "markdown",
   "metadata": {},
   "source": [
    "# 2. Select\n",
    "\n",
    "选择语句相比于if else可以允许执行多个不同条件不同情况，\n",
    "<img src=\"https://www.tutorialspoint.com/fortran/images/select_case_flow_diagram.jpg\">\n",
    "\n",
    "例如，根据学生的成绩返回相应的评价"
   ]
  },
  {
   "cell_type": "code",
   "execution_count": 7,
   "metadata": {},
   "outputs": [
    {
     "name": "stdout",
     "output_type": "stream",
     "text": [
      " Well done\n",
      " Your grade is C\n"
     ]
    }
   ],
   "source": [
    "program selectCaseProg\n",
    "implicit none\n",
    "\n",
    "   ! local variable declaration\n",
    "   character :: grade = 'C'\n",
    "\n",
    "   select case (grade)\n",
    "   \n",
    "      case ('A') \n",
    "      print*, \"Excellent!\" \n",
    "\n",
    "      case ('B')\n",
    "      \n",
    "      case ('C') \n",
    "         print*, \"Well done\" \n",
    "\n",
    "      case ('D')\n",
    "         print*, \"You passed\" \n",
    "\n",
    "      case ('F')\n",
    "         print*, \"Better try again\" \n",
    "\n",
    "      case default\n",
    "         print*, \"Invalid grade\" \n",
    "      \n",
    "   end select\n",
    "   \n",
    "   print*, \"Your grade is \", grade \n",
    " \n",
    "end program selectCaseProg"
   ]
  },
  {
   "cell_type": "markdown",
   "metadata": {},
   "source": [
    "# 3.Loops\n",
    "循环也是非常常见的编程语句，大家看一下语法就好\n",
    "<img src=\"https://www.tutorialspoint.com/fortran/images/if_conditional.jpg\">"
   ]
  },
  {
   "cell_type": "code",
   "execution_count": 2,
   "metadata": {},
   "outputs": [
    {
     "name": "stdout",
     "output_type": "stream",
     "text": [
      "           2             1\n",
      "           3             2\n",
      "           4             6\n",
      "           5            24\n",
      "           6           120\n",
      "           7           720\n",
      "           8          5040\n",
      "           9         40320\n",
      "          10        362880\n",
      "          11       3628800\n"
     ]
    }
   ],
   "source": [
    "program factorial  \n",
    "implicit none  \n",
    "\n",
    "   ! define variables\n",
    "   integer :: nfact = 1   \n",
    "   integer :: n = 1 \n",
    "   \n",
    "   ! compute factorials   \n",
    "   do while (n <= 10)       \n",
    "      nfact = nfact * n \n",
    "      n = n + 1\n",
    "      print*,  n, \" \", nfact   \n",
    "   end do \n",
    "end program factorial  "
   ]
  },
  {
   "cell_type": "markdown",
   "metadata": {},
   "source": [
    "## 3.1 Exit\n",
    "如何在满足某个条件下跳出循环？Exit语法可以做到这一点\n",
    "<img src=\"https://www.tutorialspoint.com/fortran/images/exit_statement.jpg\">"
   ]
  },
  {
   "cell_type": "code",
   "execution_count": 12,
   "metadata": {},
   "outputs": [
    {
     "name": "stdout",
     "output_type": "stream",
     "text": [
      " (i, j, k):            1           1           1\n",
      " (i, j, k):            1           1           2\n",
      " Exit\n",
      " (i, j, k):            2           1           1\n",
      " (i, j, k):            2           1           2\n",
      " Exit\n",
      " (i, j, k):            3           1           1\n",
      " (i, j, k):            3           1           2\n",
      " Exit\n"
     ]
    }
   ],
   "source": [
    "program nestedLoop \n",
    "implicit none\n",
    "\n",
    "integer:: i, j, k\n",
    "   iloop: do i = 1, 3      \n",
    "      jloop: do j = 1, 3         \n",
    "         kloop: do k = 1, 3    \n",
    "        \n",
    "         print*, \"(i, j, k): \", i, j, k               \n",
    "         \n",
    "         if (k==2) then\n",
    "            print *,\"Exit\"\n",
    "            exit jloop             \n",
    "         end if\n",
    "         \n",
    "         end do kloop       \n",
    "      end do jloop  \n",
    "   end do iloop \n",
    "   \n",
    "end program nestedLoop  "
   ]
  },
  {
   "cell_type": "markdown",
   "metadata": {},
   "source": [
    "## 3.2 Cycle Statement\n",
    "\n",
    "区别于Exit，Cycle仅跳过本次迭代的剩余部分，紧接着继续迭代下一轮（如果依然满足迭代的条件的话）\n",
    "<img src=\"https://www.tutorialspoint.com/fortran/images/cycle_statement.jpg\">"
   ]
  },
  {
   "cell_type": "code",
   "execution_count": 13,
   "metadata": {},
   "outputs": [
    {
     "name": "stdout",
     "output_type": "stream",
     "text": [
      "           1\n",
      "           2\n",
      "           3\n",
      "           4\n",
      "           6\n",
      "           7\n",
      "           8\n",
      "           9\n",
      "          10\n",
      "          11\n",
      "          12\n",
      "          13\n",
      "          14\n",
      "          15\n",
      "          16\n",
      "          17\n",
      "          18\n",
      "          19\n",
      "          20\n"
     ]
    }
   ],
   "source": [
    "program cycle_example     \n",
    "implicit none      \n",
    "\n",
    "   integer :: i     \n",
    "   \n",
    "   do i = 1, 20          \n",
    "      ! 当i等于5时，越过本次循环\n",
    "      if (i == 5) then \n",
    "         cycle          \n",
    "      end if         \n",
    "      \n",
    "   print*, i      \n",
    "   end do  \n",
    "   \n",
    "end program cycle_example"
   ]
  },
  {
   "cell_type": "markdown",
   "metadata": {},
   "source": [
    "## 3.3 Stop Statement\n",
    "即字面意思，如果你想终止你的程序的话"
   ]
  },
  {
   "cell_type": "code",
   "execution_count": 15,
   "metadata": {},
   "outputs": [
    {
     "name": "stdout",
     "output_type": "stream",
     "text": [
      "           1\n",
      "           2\n",
      "           3\n",
      "           4\n"
     ]
    }
   ],
   "source": [
    "program stop_example     \n",
    "implicit none\n",
    "\n",
    "   integer :: i     \n",
    "   do i = 1, 20          \n",
    "   \n",
    "      if (i == 5) then \n",
    "         stop          \n",
    "      end if         \n",
    "      \n",
    "      print*, i      \n",
    "   end do  \n",
    "   \n",
    "end program stop_example"
   ]
  },
  {
   "cell_type": "markdown",
   "metadata": {},
   "source": [
    "### "
   ]
  }
 ],
 "metadata": {
  "kernelspec": {
   "display_name": "Fortran",
   "language": "Fortran",
   "name": "fortran_spec"
  },
  "language_info": {
   "file_extension": "f90",
   "mimetype": "text/plain",
   "name": "fortran"
  }
 },
 "nbformat": 4,
 "nbformat_minor": 2
}
