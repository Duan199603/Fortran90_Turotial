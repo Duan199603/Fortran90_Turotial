{
 "cells": [
  {
   "cell_type": "markdown",
   "metadata": {},
   "source": [
    "# 简介\n",
    "module用来包装procedure，例如，你想把所有实现有限差分计算的函数放在一个文件包中，那么这个包就叫做module。\n",
    "\n",
    "每个module包含以下两部分\n",
    "\n",
    "* 声明\n",
    "* 主体，即各种function和subrountine\n",
    "\n",
    "总的来说，Modules被用于\n",
    "\n",
    "* Packaging subprograms, data and interface blocks.\n",
    "\n",
    "* Defining global data that can be used by more than one routine.\n",
    "\n",
    "* Declaring variables that can be made available within any routines you choose.\n",
    "\n",
    "* Importing a module entirely, for use, into another program or subroutine.\n",
    "\n"
   ]
  },
  {
   "cell_type": "markdown",
   "metadata": {},
   "source": [
    "# 1.使用Module\n",
    "\n",
    "你可以通过用use来声明你要用的module\n",
    ">use module\n",
    "\n",
    "例如，在以下示例代码中，用了名为constants的module"
   ]
  },
  {
   "cell_type": "code",
   "execution_count": 7,
   "metadata": {},
   "outputs": [
    {
     "name": "stdout",
     "output_type": "stream",
     "text": [
      " Pi =    3.14159274    \n",
      " e =    2.71828175    \n",
      " e raised to the power of 2.0 =    7.38905573    \n",
      " Area of a circle with radius 7.0 =    153.938049    \n"
     ]
    }
   ],
   "source": [
    "module constants  \n",
    "implicit none \n",
    "\n",
    "   real, parameter :: pi = 3.1415926536  \n",
    "   real, parameter :: e = 2.7182818285 \n",
    "   \n",
    "contains      \n",
    "   subroutine show_consts()          \n",
    "      print*, \"Pi = \", pi          \n",
    "      print*,  \"e = \", e     \n",
    "   end subroutine show_consts \n",
    "   \n",
    "end module constants \n",
    "\n",
    "\n",
    "program module_example     \n",
    "use constants      \n",
    "implicit none     \n",
    "\n",
    "   real :: x, ePowerx, area, radius \n",
    "   x = 2.0\n",
    "   radius = 7.0\n",
    "   ePowerx = e ** x\n",
    "   area = pi * radius**2     \n",
    "   \n",
    "   call show_consts() \n",
    "   \n",
    "   print*, \"e raised to the power of 2.0 = \", ePowerx\n",
    "   print*, \"Area of a circle with radius 7.0 = \", area  \n",
    "   \n",
    "end program module_example"
   ]
  },
  {
   "cell_type": "markdown",
   "metadata": {},
   "source": [
    "# 2.Module中的变量及subrountine的使用权限\n",
    "默认来说，你可以使用module中所有的变量及subrountine，但是你也可以通过private和public属性来控制一些部件的使用权限，\n",
    "\n",
    "例如：\n",
    "\n",
    "如果我们在pi及e前加上private属性，再观察它的输出"
   ]
  },
  {
   "cell_type": "code",
   "execution_count": 8,
   "metadata": {},
   "outputs": [
    {
     "name": "stderr",
     "output_type": "stream",
     "text": [
      "/var/folders/3y/pl6jbc511bq726j00hylc6x80000gn/T/tmph3cjcb7m.f90:23:14:\n",
      "\n",
      "    ePowerx = e ** x\n",
      "              1\n",
      "Error: Symbol 'e' at (1) has no IMPLICIT type\n",
      "/var/folders/3y/pl6jbc511bq726j00hylc6x80000gn/T/tmph3cjcb7m.f90:24:12:\n",
      "\n",
      "    area = pi * radius**2\n",
      "            1\n",
      "Error: Symbol 'pi' at (1) has no IMPLICIT type\n",
      "[Fortran kernel] gfortran exited with code 1, the executable will not be executed"
     ]
    }
   ],
   "source": [
    "module constants  \n",
    "implicit none \n",
    "\n",
    "   real, parameter,private :: pi = 3.1415926536  \n",
    "   real, parameter, private :: e = 2.7182818285 \n",
    "   \n",
    "contains      \n",
    "   subroutine show_consts()          \n",
    "      print*, \"Pi = \", pi          \n",
    "      print*, \"e = \", e     \n",
    "   end subroutine show_consts \n",
    "   \n",
    "end module constants \n",
    "\n",
    "\n",
    "program module_example     \n",
    "use constants      \n",
    "implicit none     \n",
    "\n",
    "   real :: x, ePowerx, area, radius \n",
    "   x = 2.0\n",
    "   radius = 7.0\n",
    "   ePowerx = e ** x\n",
    "   area = pi * radius**2     \n",
    "   \n",
    "   call show_consts() \n",
    "   \n",
    "   print*, \"e raised to the power of 2.0 = \", ePowerx\n",
    "   print*, \"Area of a circle with radius 7.0 = \", area  \n",
    "   \n",
    "end program module_example"
   ]
  },
  {
   "cell_type": "markdown",
   "metadata": {},
   "source": [
    "Since e and pi, both are declared private, the program module_example cannot access these variables anymore.\n",
    "\n",
    "However, other module subroutines can access them −"
   ]
  },
  {
   "cell_type": "code",
   "execution_count": 4,
   "metadata": {},
   "outputs": [
    {
     "name": "stdout",
     "output_type": "stream",
     "text": [
      " Pi =    3.14159274    \n",
      " e =    2.71828175    \n",
      " e raised to the power of 2.0 =    7.38905573    \n",
      " Area of a circle with radius 7.0 =    153.938049    \n"
     ]
    }
   ],
   "source": [
    "module constants  \n",
    "implicit none \n",
    "\n",
    "   real, parameter,private :: pi = 3.1415926536  \n",
    "   real, parameter, private :: e = 2.7182818285 \n",
    "   \n",
    "contains      \n",
    "   subroutine show_consts()          \n",
    "      print*, \"Pi = \", pi          \n",
    "      print*, \"e = \", e     \n",
    "   end subroutine show_consts \n",
    "   \n",
    "   function ePowerx(x)result(ePx) \n",
    "   implicit none\n",
    "      real::x\n",
    "      real::ePx\n",
    "      ePx = e ** x\n",
    "   end function ePowerx\n",
    "    \n",
    "   function areaCircle(r)result(a)  \n",
    "   implicit none\n",
    "      real::r\n",
    "      real::a\n",
    "      a = pi * r**2  \n",
    "   end function areaCircle\n",
    "    \n",
    "end module constants \n",
    "\n",
    "\n",
    "program module_example     \n",
    "use constants      \n",
    "implicit none     \n",
    "\n",
    "   call show_consts() \n",
    "   \n",
    "   Print*, \"e raised to the power of 2.0 = \", ePowerx(2.0)\n",
    "   print*, \"Area of a circle with radius 7.0 = \", areaCircle(7.0)  \n",
    "   \n",
    "end program module_example"
   ]
  },
  {
   "cell_type": "code",
   "execution_count": null,
   "metadata": {},
   "outputs": [],
   "source": []
  }
 ],
 "metadata": {
  "kernelspec": {
   "display_name": "Fortran",
   "language": "Fortran",
   "name": "fortran_spec"
  },
  "language_info": {
   "file_extension": "f90",
   "mimetype": "text/plain",
   "name": "fortran"
  }
 },
 "nbformat": 4,
 "nbformat_minor": 2
}
