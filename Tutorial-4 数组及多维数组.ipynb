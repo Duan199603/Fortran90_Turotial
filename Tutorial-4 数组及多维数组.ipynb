{
 "cells": [
  {
   "cell_type": "markdown",
   "metadata": {},
   "source": [
    "# 简介\n",
    "\n",
    "数组用于存储一系列同一类型的数值。\n",
    "\n",
    "Fortran中的数组可以实现一维（向量），二维（矩阵），到最多7维。"
   ]
  },
  {
   "cell_type": "markdown",
   "metadata": {},
   "source": [
    "## 1 定义数组\n",
    "数组在定义的同时需要指定维度\n",
    "\n",
    "例如，定义一个一维的包含5个元素名为number的向量：\n",
    "> real, dimension(5) :: numbers\n",
    "\n",
    "数组中的每个元素可以由每个下角标指定，例如numbers(1)\n",
    "\n",
    "又例如，创建一个名为matrix的5*5大小的矩阵：\n",
    "> integer, dimension (5,5) :: matrix "
   ]
  },
  {
   "cell_type": "markdown",
   "metadata": {},
   "source": [
    "## 2 赋值\n",
    "给数组中特定位置赋值：\n",
    ">numbers(1) = 2.0\n",
    "\n",
    "或者，你可以用loop循环赋值：\n",
    ">do i  =1,5\n",
    "   <br>numbers(i) = i * 2.0\n",
    "<br>end do\n",
    "\n",
    "一维数组也可以直接手动赋值：\n",
    "\n",
    ">numbers = (/1.5, 3.2,4.5,0.9,7.2 /)"
   ]
  },
  {
   "cell_type": "code",
   "execution_count": 4,
   "metadata": {},
   "outputs": [
    {
     "name": "stdout",
     "output_type": "stream",
     "text": [
      "   2.00000000    \n",
      "   4.00000000    \n",
      "   6.00000000    \n",
      "   8.00000000    \n",
      "   10.0000000    \n",
      "           2\n",
      "           3\n",
      "           4\n",
      "           3\n",
      "           4\n",
      "           5\n",
      "           4\n",
      "           5\n",
      "           6\n",
      "   1.50000000    \n",
      "   3.20000005    \n",
      "   4.50000000    \n",
      "  0.899999976    \n",
      "   7.19999981    \n"
     ]
    }
   ],
   "source": [
    "program arrayProg\n",
    "\n",
    "   real :: numbers(5) !one dimensional integer array\n",
    "   integer :: matrix(3,3), i , j !two dimensional real array\n",
    "   \n",
    "   !assigning some values to the array numbers\n",
    "   do i=1,5\n",
    "      numbers(i) = i * 2.0\n",
    "   end do\n",
    "   \n",
    "   !display the values\n",
    "   do i = 1, 5\n",
    "      Print *, numbers(i)\n",
    "   end do\n",
    "   \n",
    "   !assigning some values to the array matrix\n",
    "   do i=1,3\n",
    "      do j = 1, 3\n",
    "         matrix(i, j) = i+j\n",
    "      end do\n",
    "   end do\n",
    "   \n",
    "   !display the values\n",
    "   do i=1,3\n",
    "      do j = 1, 3\n",
    "         Print *, matrix(i,j)\n",
    "      end do\n",
    "   end do\n",
    "   \n",
    "   !short hand assignment\n",
    "   numbers = (/1.5, 3.2,4.5,0.9,7.2 /)\n",
    "   \n",
    "   !display the values\n",
    "   do i = 1, 5\n",
    "      Print *, numbers(i)\n",
    "   end do\n",
    "   \n",
    "end program arrayProg"
   ]
  },
  {
   "cell_type": "markdown",
   "metadata": {},
   "source": [
    "## 3. 一些与数组有关的术语\n",
    "* Rank：数组的维度（阶）\n",
    "* Extent：数组的特定维度的长度\n",
    "* Shape：数组的形，例如5*3的矩阵，则shape为(5,3)\n",
    "* Size：数组所包含的元素的数量"
   ]
  },
  {
   "cell_type": "markdown",
   "metadata": {},
   "source": [
    "# 4.调用局部数组\n",
    "\n",
    "一些情况下，我们只想用数组的一部分数值，这时候我们要通过给出下届和上届来指定局部数组，\n",
    "\n",
    "> array ([lower]:[upper][:stride], ...)\n",
    "\n",
    "其中，stride是指间隔，例如修改从1到20，每隔4个修改一个数值，则4就是所谓的间隔，默认值为1."
   ]
  },
  {
   "cell_type": "code",
   "execution_count": 3,
   "metadata": {},
   "outputs": [
    {
     "name": "stdout",
     "output_type": "stream",
     "text": [
      "   5.00000000    \n",
      "   5.00000000    \n",
      "   5.00000000    \n",
      "   5.00000000    \n",
      "   5.00000000    \n",
      "   5.00000000    \n",
      "   5.00000000    \n",
      "   0.00000000    \n",
      "   0.00000000    \n",
      "   0.00000000    \n",
      "   2.50000000    \n",
      "   3.90000010    \n",
      "   2.50000000    \n",
      "   3.90000010    \n",
      "   2.50000000    \n",
      "   3.90000010    \n",
      "   2.50000000    \n",
      "   3.90000010    \n",
      "   2.50000000    \n",
      "   3.90000010    \n"
     ]
    }
   ],
   "source": [
    "program arraySubsection\n",
    "\n",
    "   real, dimension(10) :: a, b\n",
    "   integer:: i, asize, bsize\n",
    "   \n",
    "   a(1:7) = 5.0 ! a(1) to a(7) assigned 5.0\n",
    "   a(8:) = 0.0  ! rest are 0.0 \n",
    "   b(2:10:2) = 3.9\n",
    "   b(1:9:2) = 2.5\n",
    "   \n",
    "   !display\n",
    "   asize = size(a)\n",
    "   bsize = size(b)\n",
    "   \n",
    "   do i = 1, asize\n",
    "      Print *, a(i)\n",
    "   end do\n",
    "   \n",
    "   do i = 1, bsize\n",
    "      Print *, b(i)\n",
    "   end do\n",
    "   \n",
    "end program arraySubsection"
   ]
  },
  {
   "cell_type": "markdown",
   "metadata": {},
   "source": [
    "## 6. 动态数组\n",
    "\n",
    "动态数组是指在编译时未指定大小，可以动态分配大小的一种数组。\n",
    "\n",
    "动态数组比起传统数组稍复杂，如\n",
    "\n",
    "A dynamic array is an array, the size of which is not known at compile time, but will be known at execution time.\n",
    "\n",
    "Dynamic arrays are declared with the attribute allocatable."
   ]
  }
 ],
 "metadata": {
  "kernelspec": {
   "display_name": "Fortran",
   "language": "Fortran",
   "name": "fortran_spec"
  },
  "language_info": {
   "file_extension": "f90",
   "mimetype": "text/plain",
   "name": "fortran"
  }
 },
 "nbformat": 4,
 "nbformat_minor": 2
}
