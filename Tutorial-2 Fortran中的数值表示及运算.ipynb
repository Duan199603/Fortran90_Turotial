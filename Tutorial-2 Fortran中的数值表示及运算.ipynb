{
 "cells": [
  {
   "cell_type": "markdown",
   "metadata": {},
   "source": [
    "# 概述\n",
    "第二部分tutorial主要介绍常用的数据类型如何在Fortran中表达，包括以下五种：\n",
    "* Integer type 整数\n",
    "* Real type 实数\n",
    "* Complex type 复数\n",
    "* Logical type 逻辑型\n",
    "* Character type 字符型\n",
    "* Variables and Constants 变量与常量\n",
    "* Operators 运算符"
   ]
  },
  {
   "cell_type": "markdown",
   "metadata": {},
   "source": [
    "# 1.Integer type 整数型\n",
    "整数型只能表达整数，例如测试最大可表达的整数值"
   ]
  },
  {
   "cell_type": "code",
   "execution_count": 13,
   "metadata": {},
   "outputs": [
    {
     "name": "stdout",
     "output_type": "stream",
     "text": [
      "  2147483647\n"
     ]
    }
   ],
   "source": [
    "program testingInt\n",
    "implicit none\n",
    "\n",
    "   integer :: largeval\n",
    "   print *, huge(largeval)\n",
    "   \n",
    "end program testingInt"
   ]
  },
  {
   "cell_type": "markdown",
   "metadata": {},
   "source": [
    "* 注意huge()函数可以给出某个整数型可表达的最大值\n",
    "\n",
    "如果想自定义不同字节数的整数值，可以调用kind()函数，代码如下："
   ]
  },
  {
   "cell_type": "code",
   "execution_count": 15,
   "metadata": {},
   "outputs": [
    {
     "name": "stdout",
     "output_type": "stream",
     "text": [
      "  32767\n",
      "  2147483647\n",
      "  9223372036854775807\n",
      " 170141183460469231731687303715884105727\n",
      "  2147483647\n"
     ]
    }
   ],
   "source": [
    "program testingInt\n",
    "implicit none\n",
    "\n",
    "   !two byte integer\n",
    "   integer(kind = 2) :: shortval\n",
    "   \n",
    "   !four byte integer\n",
    "   integer(kind = 4) :: longval\n",
    "   \n",
    "   !eight byte integer\n",
    "   integer(kind = 8) :: verylongval\n",
    "   \n",
    "   !sixteen byte integer\n",
    "   integer(kind = 16) :: veryverylongval\n",
    "   \n",
    "   !default integer \n",
    "   integer :: defval\n",
    "        \n",
    "   print *, huge(shortval)\n",
    "   print *, huge(longval)\n",
    "   print *, huge(verylongval)\n",
    "   print *, huge(veryverylongval)\n",
    "   print *, huge(defval)\n",
    "   \n",
    "end program testingInt"
   ]
  },
  {
   "cell_type": "markdown",
   "metadata": {},
   "source": [
    "# 2.Real Type 实数型\n",
    "\n",
    "实数型主要用来存储浮点数，例如2.0,3.1415946,等等\n",
    "\n",
    "一般来说，有两种不同的实数类型，默认的实数类型，以及双精度类型（可以表达更长的小数）\n",
    "\n",
    "同整数值一样，在Fortran 90/95中，我们一般用kind()函数来控制精度\n"
   ]
  },
  {
   "cell_type": "code",
   "execution_count": 16,
   "metadata": {},
   "outputs": [
    {
     "name": "stdout",
     "output_type": "stream",
     "text": [
      "  0.666666687    \n",
      "           0\n"
     ]
    }
   ],
   "source": [
    "program division   \n",
    "implicit none  \n",
    "\n",
    "   ! Define real variables   \n",
    "   real :: p, q, realRes \n",
    "   \n",
    "   ! Define integer variables  \n",
    "   integer :: i, j, intRes  \n",
    "   \n",
    "   ! Assigning  values   \n",
    "   p = 2.0 \n",
    "   q = 3.0    \n",
    "   i = 2 \n",
    "   j = 3  \n",
    "   \n",
    "   ! floating point division\n",
    "   realRes = p/q  \n",
    "   intRes = i/j\n",
    "   \n",
    "   print *, realRes\n",
    "   print *, intRes\n",
    "   \n",
    "end program division "
   ]
  },
  {
   "cell_type": "markdown",
   "metadata": {},
   "source": [
    "# 3.Complex type 复数\n",
    "一个复数包括两部分，实部以及虚部。\n",
    "\n",
    "在Fortran中，我们用两个连续的数值来表示复数不同的部分，例如：\n",
    "3.0 – 5.0i可以用(3.0, -5.0)来表达。\n",
    "\n",
    "在Fortran中，我们需要调用cmplx()来创建一个复数，代码如下："
   ]
  },
  {
   "cell_type": "code",
   "execution_count": 19,
   "metadata": {},
   "outputs": [
    {
     "name": "stdout",
     "output_type": "stream",
     "text": [
      "             (10.0000000,5.17000008)\n"
     ]
    }
   ],
   "source": [
    "program createComplex\n",
    "implicit none\n",
    "\n",
    "   integer :: i = 10\n",
    "   real :: x = 5.17\n",
    "   print *, cmplx(i, x)\n",
    "   \n",
    "end program createComplex"
   ]
  },
  {
   "cell_type": "markdown",
   "metadata": {},
   "source": [
    "## 关于复数间的运算\n",
    "例如：\n",
    "* x = 7 + 8i\n",
    "* y = 5 - 7i\n",
    "\n",
    "计算：\n",
    "* x+y=?\n",
    "* x-y=?\n",
    "* x*y=?\n",
    "* x/y=?\n",
    "\n",
    "示例代码如下："
   ]
  },
  {
   "cell_type": "code",
   "execution_count": 22,
   "metadata": {},
   "outputs": [],
   "source": [
    "program ComplexArithmatic\n",
    "implicit none\n",
    "\n",
    "   complex :: x, y, z \n",
    "   \n",
    "   x = (7, 8); \n",
    "   y = (5, -7)   \n",
    "   \n",
    "   z = x + y\n",
    "   print *, \"z = x + y = \", z\n",
    "   \n",
    "   z = x - y\n",
    "   print *, \"z = x - y = \", z \n",
    "   \n",
    "   z = x * y\n",
    "   print *, \"z = x * y = \", z \n",
    "   \n",
    "   z = x / y\n",
    "   print *, \"z = x / y = \", z \n",
    "   \n",
    "end program ComplexArithmatic"
   ]
  },
  {
   "cell_type": "markdown",
   "metadata": {},
   "source": [
    "# 3.Logical type 逻辑型\n",
    "\n",
    "逻辑型只有两种表达： .true. and .false."
   ]
  },
  {
   "cell_type": "markdown",
   "metadata": {},
   "source": [
    "# 4.Character type 字符型\n",
    "字符型即用来存储字符及字符串，字符串的长度可以由len函数指定，如果没有指定的话，默认为1\n",
    "\n",
    "*注意用单引号"
   ]
  },
  {
   "cell_type": "code",
   "execution_count": 26,
   "metadata": {},
   "outputs": [
    {
     "name": "stdout",
     "output_type": "stream",
     "text": [
      " Zara Ali                                \n"
     ]
    }
   ],
   "source": [
    "program characterTester\n",
    "implicit none\n",
    "    character (len = 40) :: name  \n",
    "    name = 'Zara Ali'\n",
    "    print *, name\n",
    "end program characterTester"
   ]
  },
  {
   "cell_type": "markdown",
   "metadata": {},
   "source": [
    "# 5.Variables and Constants 变量与常数\n",
    "变量与常量是编程语言中常会听到的名词，一般来说，我们会指定一些不变量为常量，例如:\n",
    "重力加速度：\n",
    "<br>real, parameter :: g = 9.81   \n",
    "或者圆周率：\n",
    "<br>real, parameter :: pi = 3.1415927\n",
    "\n",
    "而变量，一般来说是我们运算过程中的中间值，需要先定义，再赋值，示例代码如下："
   ]
  },
  {
   "cell_type": "code",
   "execution_count": 28,
   "metadata": {},
   "outputs": [
    {
     "name": "stdout",
     "output_type": "stream",
     "text": [
      "       20000\n",
      "   1666.67004    \n",
      "             (3.00000000,5.00000000)\n",
      " T\n",
      " A big Hello from Tutorials Point                                                \n"
     ]
    }
   ],
   "source": [
    "program variableTesting\n",
    "implicit none\n",
    "\n",
    "   ! 定义变量\n",
    "   integer :: total      \n",
    "   real :: average \n",
    "   complex :: cx  \n",
    "   logical :: done \n",
    "   character(len=80) :: message ! a string of 80 characters\n",
    "   \n",
    "   !为变量赋值\n",
    "   total = 20000  \n",
    "   average = 1666.67   \n",
    "   done = .true.   \n",
    "   message = \"A big Hello from Tutorials Point\" \n",
    "   cx = (3.0, 5.0) ! cx = 3.0 + 5.0i\n",
    "\n",
    "   Print *, total\n",
    "   Print *, average\n",
    "   Print *, cx\n",
    "   Print *, done\n",
    "   Print *, message\n",
    "   \n",
    "end program variableTesting"
   ]
  },
  {
   "cell_type": "markdown",
   "metadata": {},
   "source": [
    "# 6.Operator 运算符\n",
    "这一部分，直列举运算符，大家可以用以上代码自行尝试不同的运算操作：\n",
    "\n",
    "大家可以参考以下链接：\n",
    "\n",
    "<a>https://www.yiibai.com/fortran/fortran_operators.html</a>"
   ]
  },
  {
   "cell_type": "code",
   "execution_count": null,
   "metadata": {},
   "outputs": [],
   "source": []
  },
  {
   "cell_type": "code",
   "execution_count": null,
   "metadata": {},
   "outputs": [],
   "source": []
  }
 ],
 "metadata": {
  "kernelspec": {
   "display_name": "Fortran",
   "language": "Fortran",
   "name": "fortran_spec"
  },
  "language_info": {
   "file_extension": "f90",
   "mimetype": "text/plain",
   "name": "fortran"
  }
 },
 "nbformat": 4,
 "nbformat_minor": 2
}
