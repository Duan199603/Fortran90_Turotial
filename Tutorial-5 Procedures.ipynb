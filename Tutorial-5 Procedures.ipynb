{
 "cells": [
  {
   "cell_type": "markdown",
   "metadata": {},
   "source": [
    "# 简介\n",
    "\n",
    "procedure可以理解为执行某个特定功能的一个功能区，在Fortran中，根据是否有返回数值，procedure可以分为两种类型：\n",
    "\n",
    "* Functions\n",
    "* Subroutines"
   ]
  },
  {
   "cell_type": "markdown",
   "metadata": {},
   "source": [
    "# 1.Function\n",
    "\n",
    "示例如下，注意的是，Function中的返回值即函数本身的名字，例如在以下代码中，area_of_circle函数的返回值即area_of_circle"
   ]
  },
  {
   "cell_type": "code",
   "execution_count": 2,
   "metadata": {},
   "outputs": [
    {
     "name": "stdout",
     "output_type": "stream",
     "text": [
      " The area of a circle with radius 2.0 is\n",
      "   12.5663710    \n"
     ]
    }
   ],
   "source": [
    "program calling_func\n",
    "\n",
    "   real :: a\n",
    "   a = area_of_circle(2.0) \n",
    "   \n",
    "   Print *, \"The area of a circle with radius 2.0 is\"\n",
    "   Print *, a\n",
    "   \n",
    "end program calling_func\n",
    "\n",
    "\n",
    "! this function computes the area of a circle with radius r  \n",
    "function area_of_circle (r)  \n",
    "\n",
    "! function result     \n",
    "implicit none      \n",
    "\n",
    "   ! dummy arguments        \n",
    "   real :: area_of_circle   \n",
    "   \n",
    "   ! local variables \n",
    "   real :: r     \n",
    "   real :: pi\n",
    "   \n",
    "   pi = 4 * atan (1.0)     \n",
    "   area_of_circle = pi * r**2  \n",
    "   \n",
    "end function area_of_circle"
   ]
  },
  {
   "cell_type": "markdown",
   "metadata": {},
   "source": [
    "* Note:\n",
    "\n",
    "You must specify implicit none in both the main program as well as the procedure.\n",
    "\n",
    "The argument r in the called function is called dummy argument."
   ]
  },
  {
   "cell_type": "markdown",
   "metadata": {},
   "source": [
    "#### The result Option\n",
    "\n",
    "如果你想用其他名字来返回返回值，可以用以下方式：\n",
    "\n",
    ">function name(arg1, arg2, ....) *result (return_var_name) * \n",
    "   <br>[declarations, including those for the arguments]   \n",
    "   <br>[executable statements] \n",
    "<br>end function [name]"
   ]
  },
  {
   "cell_type": "markdown",
   "metadata": {},
   "source": [
    "# 2.Subroutine\n",
    "\n",
    "如上所述，Subroutine与procedure的区别在于没有返回值，\n",
    "\n",
    "当调用某个subrountine时需要使用call函数。\n"
   ]
  },
  {
   "cell_type": "code",
   "execution_count": 4,
   "metadata": {},
   "outputs": [
    {
     "name": "stdout",
     "output_type": "stream",
     "text": [
      " Before calling swap\n",
      " a =    2.00000000    \n",
      " b =    3.00000000    \n",
      " After calling swap\n",
      " a =    3.00000000    \n",
      " b =    2.00000000    \n"
     ]
    }
   ],
   "source": [
    "program calling_func\n",
    "implicit none\n",
    "\n",
    "   real :: a, b\n",
    "   a = 2.0\n",
    "   b = 3.0\n",
    "   \n",
    "   Print *, \"Before calling swap\"\n",
    "   Print *, \"a = \", a\n",
    "   Print *, \"b = \", b\n",
    "   \n",
    "   call swap(a, b)\n",
    "   \n",
    "   Print *, \"After calling swap\"\n",
    "   Print *, \"a = \", a\n",
    "   Print *, \"b = \", b\n",
    "   \n",
    "end program calling_func\n",
    "\n",
    "\n",
    "subroutine swap(x, y) \n",
    "implicit none\n",
    "\n",
    "   real :: x, y, temp   \n",
    "   \n",
    "   temp = x  \n",
    "   x = y \n",
    "   y = temp  \n",
    "   \n",
    "end subroutine swap"
   ]
  },
  {
   "cell_type": "markdown",
   "metadata": {},
   "source": [
    "### 指定参数的作用\n",
    "The intent attribute allows you to specify the intention with which arguments are used in the procedure. The following table provides the values of the intent attribute −"
   ]
  },
  {
   "cell_type": "code",
   "execution_count": null,
   "metadata": {},
   "outputs": [],
   "source": [
    "program calling_func\n",
    "implicit none\n",
    "\n",
    "   real :: x, y, z, disc\n",
    "   \n",
    "   x = 1.0\n",
    "   y = 5.0\n",
    "   z = 2.0\n",
    "   \n",
    "   call intent_example(x, y, z, disc)\n",
    "   \n",
    "   Print *, \"The value of the discriminant is\"\n",
    "   Print *, disc\n",
    "   \n",
    "end program calling_func\n",
    "\n",
    "\n",
    "subroutine intent_example (a, b, c, d)     \n",
    "implicit none     \n",
    "\n",
    "   ! dummy arguments      \n",
    "   real, intent (in) :: a     \n",
    "   real, intent (in) :: b      \n",
    "   real, intent (in) :: c    \n",
    "   real, intent (out) :: d   \n",
    "   \n",
    "   d = b * b - 4.0 * a * c \n",
    "   \n",
    "end subroutine intent_example"
   ]
  }
 ],
 "metadata": {
  "kernelspec": {
   "display_name": "Fortran",
   "language": "Fortran",
   "name": "fortran_spec"
  },
  "language_info": {
   "file_extension": "f90",
   "mimetype": "text/plain",
   "name": "fortran"
  }
 },
 "nbformat": 4,
 "nbformat_minor": 2
}
